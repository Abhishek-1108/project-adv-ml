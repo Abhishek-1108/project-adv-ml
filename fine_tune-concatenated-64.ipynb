{
 "cells": [
  {
   "cell_type": "code",
   "execution_count": 1,
   "metadata": {},
   "outputs": [
    {
     "name": "stderr",
     "output_type": "stream",
     "text": [
      "Using TensorFlow backend.\n"
     ]
    }
   ],
   "source": [
    "import numpy as np\n",
    "import datetime\n",
    "import os\n",
    "from collections import Counter\n",
    "\n",
    "import keras\n",
    "from sklearn.naive_bayes import MultinomialNB\n",
    "from keras.optimizers import Adam\n",
    "from keras.models import Sequential\n",
    "from keras.layers import Dense\n",
    "from keras import losses\n",
    "from keras.callbacks import ModelCheckpoint, TensorBoard, EarlyStopping\n",
    "import sklearn.preprocessing\n",
    "\n",
    "from utils import generate_data_for_labels, read_pickle"
   ]
  },
  {
   "cell_type": "code",
   "execution_count": 2,
   "metadata": {
    "collapsed": true
   },
   "outputs": [],
   "source": [
    "MOST_COMMON = 4\n",
    "\n",
    "def build_model(input_shape, n_classes):\n",
    "    model = Sequential()\n",
    "    model.add(\n",
    "        Dense(64, input_shape=input_shape)\n",
    "    )\n",
    "    model.add(\n",
    "        Dense(n_classes, activation='softmax')\n",
    "    )\n",
    "    return model\n",
    "\n",
    "\n",
    "def get_callbacks(prefix, base_dir):\n",
    "    timestamp = datetime.datetime.now().strftime('%Y-%m-%d_%H-%M')\n",
    "    log_dir = base_dir + 'logs/{}_{}/'.format(prefix, timestamp)\n",
    "    print('log_dir {}'.format(log_dir))\n",
    "    model_checkpoint_dir = base_dir + 'models/{}_{}/'.format(prefix, timestamp)\n",
    "\n",
    "    if not os.path.exists(log_dir):\n",
    "        os.makedirs(log_dir)\n",
    "\n",
    "    if not os.path.exists(model_checkpoint_dir):\n",
    "        os.makedirs(model_checkpoint_dir)\n",
    "\n",
    "    # build a tensorboard callback object using the above log dir\n",
    "    tensorboard_callback = TensorBoard(\n",
    "        log_dir=log_dir,\n",
    "        histogram_freq=0,\n",
    "        write_graph=True,\n",
    "        write_images=False\n",
    "    )\n",
    "    # # build a model checkpoint callback object using the above model checkpoint dir\n",
    "    checkpoint_callback = ModelCheckpoint(\n",
    "        model_checkpoint_dir + 'best_weights.hdf5',\n",
    "        monitor='val_loss',\n",
    "        verbose=0,\n",
    "        save_best_only=True,\n",
    "        save_weights_only=True,\n",
    "        mode='auto'\n",
    "    )\n",
    "    early_stopping_callback = EarlyStopping(patience=10)\n",
    "\n",
    "    return [checkpoint_callback, tensorboard_callback, early_stopping_callback]\n"
   ]
  },
  {
   "cell_type": "code",
   "execution_count": 3,
   "metadata": {
    "collapsed": true
   },
   "outputs": [],
   "source": [
    "\n",
    "def get_pd(x, y):\n",
    "    xn = (x - x.min(0)) / x.ptp(0)\n",
    "    clf = MultinomialNB()\n",
    "    clf.fit(xn, y)\n",
    "    return clf.predict_proba(xn)\n",
    "\n",
    "\n",
    "def fine_tune_model(model, videos, audios, original_labels, base_dir, prefix):\n",
    "    model.layers[-1].trainable = False\n",
    "\n",
    "    model.compile(\n",
    "        optimizer=Adam(lr=1e-4),\n",
    "        loss=losses.kld\n",
    "    )\n",
    "    pd = get_pd(audios, original_labels)\n",
    "\n",
    "    epochs_2 = 500\n",
    "\n",
    "    model.fit(\n",
    "        videos,\n",
    "        pd,\n",
    "        epochs=epochs_2,\n",
    "        validation_split=0.15,\n",
    "        callbacks=get_callbacks('{}_2'.format(prefix), base_dir)\n",
    "    )\n"
   ]
  },
  {
   "cell_type": "code",
   "execution_count": 4,
   "metadata": {
    "collapsed": true
   },
   "outputs": [],
   "source": [
    "base_dir = '/mnt/disks/sup/finetune/'\n",
    "prefix = 'concat-64-kl'\n",
    "epochs_1 = 100\n",
    "videos_file = base_dir + 'video.pkl'\n",
    "audios_file = base_dir + 'audio.pkl'\n",
    "video_labels_file = base_dir + 'labels.pkl'\n",
    "# video_labels = read_pickle(video_labels_file).flatten()\n",
    "# unique_labels = np.array(list(set(video_labels)))\n",
    "# print \"Original Unique Labels\", len(unique_labels)\n",
    "# c = Counter(video_labels)\n",
    "# chosen_labels = []\n",
    "# for word, count in c.most_common(MOST_COMMON):\n",
    "#     chosen_labels.append(word)\n",
    "# chosen_labels = np.array(chosen_labels)\n",
    "\n",
    "# videos, labels = generate_data_for_labels(videos_file, video_labels, chosen_labels, Transpose=1)\n",
    "# print('video done')\n",
    "# audios, a_labels = generate_data_for_labels(audios_file, video_labels, chosen_labels, Transpose=1)\n"
   ]
  },
  {
   "cell_type": "code",
   "execution_count": 5,
   "metadata": {
    "collapsed": true
   },
   "outputs": [],
   "source": [
    "# videos.shape, audios.shape"
   ]
  },
  {
   "cell_type": "code",
   "execution_count": 6,
   "metadata": {
    "collapsed": true
   },
   "outputs": [],
   "source": [
    "import cPickle as pickle"
   ]
  },
  {
   "cell_type": "code",
   "execution_count": 7,
   "metadata": {
    "collapsed": true
   },
   "outputs": [],
   "source": [
    "# original_labels = labels\n",
    "# label_binarizer = sklearn.preprocessing.LabelBinarizer()\n",
    "# label_binarizer.fit(range(len(chosen_labels)))\n",
    "# labels = label_binarizer.transform(labels)\n"
   ]
  },
  {
   "cell_type": "code",
   "execution_count": 8,
   "metadata": {
    "collapsed": true
   },
   "outputs": [],
   "source": [
    "videos_savepath = base_dir + 'save_videos.pkl'\n",
    "# with open(videos_savepath, 'wb') as vsp:\n",
    "#     pickle.dump(videos, vsp)\n",
    "    \n",
    "audios_savepath = base_dir + 'save_audios.pkl'\n",
    "# with open(audios_savepath, 'wb') as asp:\n",
    "#     pickle.dump(audios, asp)\n",
    "    \n",
    "labels_savepath = base_dir + 'save_labels.pkl'\n",
    "# with open(labels_savepath, 'wb') as lsp:\n",
    "#     pickle.dump(labels, lsp)\n",
    "    \n",
    "original_labels_savepath = base_dir + 'save_original_labels.pkl'\n",
    "# with open(original_labels_savepath, 'wb') as olsp:\n",
    "#     pickle.dump(original_labels, olsp)"
   ]
  },
  {
   "cell_type": "code",
   "execution_count": 9,
   "metadata": {
    "collapsed": true
   },
   "outputs": [],
   "source": [
    "with open(videos_savepath, 'rb') as vsp:\n",
    "    videos = pickle.load(vsp)\n",
    "    \n",
    "with open(audios_savepath, 'rb') as asp:\n",
    "    audios = pickle.load(asp)\n",
    "    \n",
    "with open(labels_savepath, 'rb') as lsp:\n",
    "    labels = pickle.load(lsp)\n",
    "    \n",
    "with open(original_labels_savepath, 'rb') as olsp:\n",
    "    original_labels = pickle.load(olsp)"
   ]
  },
  {
   "cell_type": "markdown",
   "metadata": {},
   "source": [
    "## Concatenating features before fusing"
   ]
  },
  {
   "cell_type": "code",
   "execution_count": 10,
   "metadata": {
    "collapsed": true
   },
   "outputs": [],
   "source": [
    "import numpy as np"
   ]
  },
  {
   "cell_type": "code",
   "execution_count": 11,
   "metadata": {},
   "outputs": [
    {
     "data": {
      "text/plain": [
       "((15540, 1024), (15540, 128))"
      ]
     },
     "execution_count": 11,
     "metadata": {},
     "output_type": "execute_result"
    }
   ],
   "source": [
    "videos.shape, audios.shape"
   ]
  },
  {
   "cell_type": "code",
   "execution_count": 12,
   "metadata": {},
   "outputs": [
    {
     "data": {
      "text/plain": [
       "(15540, 1152)"
      ]
     },
     "execution_count": 12,
     "metadata": {},
     "output_type": "execute_result"
    }
   ],
   "source": [
    "concat = np.hstack([videos, audios])\n",
    "concat.shape"
   ]
  },
  {
   "cell_type": "code",
   "execution_count": 13,
   "metadata": {
    "collapsed": true
   },
   "outputs": [],
   "source": [
    "input_shape = (concat.shape[1],)\n",
    "model = build_model(input_shape, MOST_COMMON)\n",
    "\n",
    "model.compile(\n",
    "    loss=losses.categorical_crossentropy,\n",
    "    optimizer=Adam(lr=1e-3)\n",
    ")\n",
    "epochs_1 = 500\n",
    "hist1 = model.fit(\n",
    "    concat, labels,\n",
    "    epochs=epochs_1,\n",
    "    verbose=1,\n",
    "    validation_split=0.15,\n",
    "    callbacks=get_callbacks('{}_1'.format(prefix), './basedir/')\n",
    ")"
   ]
  },
  {
   "cell_type": "code",
   "execution_count": 14,
   "metadata": {
    "collapsed": true
   },
   "outputs": [],
   "source": [
    "model.layers[-1].trainable = False\n",
    "\n",
    "model.compile(\n",
    "    optimizer=Adam(lr=1e-4),\n",
    "    loss=losses.kld\n",
    ")\n",
    "pd = get_pd(audios, original_labels)\n",
    "\n",
    "epochs_2 = 500\n",
    "\n",
    "hist2 = model.fit(\n",
    "    concat,\n",
    "    pd,\n",
    "    epochs=epochs_2,\n",
    "    validation_split=0.15,\n",
    "    callbacks=get_callbacks('{}_2'.format(prefix), './basedir/')\n",
    ")"
   ]
  },
  {
   "cell_type": "code",
   "execution_count": 15,
   "metadata": {
    "collapsed": true
   },
   "outputs": [],
   "source": [
    "get_first_output = keras.backend.function([model.layers[0].input], [model.layers[0].output])\n",
    "first_output = get_first_output([concat])[0]"
   ]
  },
  {
   "cell_type": "code",
   "execution_count": 16,
   "metadata": {},
   "outputs": [
    {
     "data": {
      "text/plain": [
       "(15540, 64)"
      ]
     },
     "execution_count": 16,
     "metadata": {},
     "output_type": "execute_result"
    }
   ],
   "source": [
    "first_output.shape"
   ]
  },
  {
   "cell_type": "code",
   "execution_count": 17,
   "metadata": {
    "collapsed": true
   },
   "outputs": [],
   "source": [
    "videos_projected_path = './basedir/concat_projected_64.pkl'\n",
    "with open(videos_projected_path, 'wb') as vpp:\n",
    "    pickle.dump(first_output, vpp)\n",
    "    \n",
    "video_labels_path = './basedir/concat_projected_64_labels.pkl'\n",
    "with open(video_labels_path, 'wb') as vlp:\n",
    "    pickle.dump(original_labels, vlp)"
   ]
  },
  {
   "cell_type": "code",
   "execution_count": 20,
   "metadata": {
    "collapsed": true
   },
   "outputs": [],
   "source": [
    "from sklearn.manifold import TSNE\n",
    "\n",
    "from tsne import plot_with_labels\n",
    "\n",
    "def plot_tsne(x, y, title):\n",
    "    tsne_sklearn = TSNE()\n",
    "    np.set_printoptions(suppress=True)\n",
    "    x_2 = tsne_sklearn.fit_transform(x, y)\n",
    "    plot_with_labels(x_2, y, title)"
   ]
  },
  {
   "cell_type": "code",
   "execution_count": null,
   "metadata": {},
   "outputs": [],
   "source": [
    "import random\n",
    "N = len(videos)\n",
    "selection_size = 5000\n",
    "sel = random.sample(range(N), selection_size)\n",
    "videos_sample = first_output[sel]\n",
    "labels_sample = original_labels[sel]\n",
    "\n",
    "plot_tsne(videos_sample, labels_sample, 'concat-sample-64')"
   ]
  },
  {
   "cell_type": "code",
   "execution_count": null,
   "metadata": {
    "collapsed": true
   },
   "outputs": [],
   "source": []
  }
 ],
 "metadata": {
  "kernelspec": {
   "display_name": "Python 2",
   "language": "python",
   "name": "python2"
  },
  "language_info": {
   "codemirror_mode": {
    "name": "ipython",
    "version": 2
   },
   "file_extension": ".py",
   "mimetype": "text/x-python",
   "name": "python",
   "nbconvert_exporter": "python",
   "pygments_lexer": "ipython2",
   "version": "2.7.9"
  }
 },
 "nbformat": 4,
 "nbformat_minor": 2
}
